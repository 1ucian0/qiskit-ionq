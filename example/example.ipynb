{
 "cells": [
  {
   "cell_type": "markdown",
   "metadata": {},
   "source": [
    "# IonQ Qiskit Provider Example"
   ]
  },
  {
   "cell_type": "markdown",
   "metadata": {},
   "source": [
    "This notebook will walk you through a basic example of using an IonQ backend with Qiskit"
   ]
  },
  {
   "cell_type": "markdown",
   "metadata": {},
   "source": [
    "## Setup\n",
    "\n",
    "First, get an API token from IonQ. This will be used by the IonQ provider inside Qiskit to submit circuits to the IonQ platform.\n",
    "\n",
    "Next, install the `qiskit-ionq-provider`: `pip install qiskit-ionq-provider`. If you're running this example notebook, you've likely already done this.\n",
    "\n",
    "### (Optional) Extra Dependencies\n",
    "\n",
    "Some examples use additional Python dependencies; please make sure to `pip install` them as needed.\n",
    "\n",
    "Dependencies:\n",
    "* `matplotlib`: To run `qiskit.visualization.plot_histogram`."
   ]
  },
  {
   "cell_type": "markdown",
   "metadata": {},
   "source": [
    "## Usage & Examples\n",
    "\n",
    "**NOTE**: The provider expects an API key to be supplied via the `token` keyword argument to its constructor. If no token is directly provided, the provider will check for one in the `QISKIT_IONQ_API_TOKEN` environment variable.\n",
    "\n",
    "Now that the Python package has been installed, you can import and instantiate the provider:"
   ]
  },
  {
   "cell_type": "code",
   "execution_count": 71,
   "metadata": {},
   "outputs": [],
   "source": [
    "# import packages\n",
    "from qiskit import QuantumCircuit\n",
    "from qiskit.visualization import plot_histogram\n",
    "from qiskit_ionq_provider import IonQProvider\n",
    "\n",
    "provider = IonQProvider()"
   ]
  },
  {
   "cell_type": "markdown",
   "metadata": {},
   "source": [
    "## Example — Bell Pair"
   ]
  },
  {
   "cell_type": "markdown",
   "metadata": {},
   "source": [
    "Circuit building and visualization should feel identical to building a circuit using any other backend in Qiskit. \n",
    "\n",
    "There are only a few things to note: IonQ backends do not allow arbitrary unitaries, mid-circuit resets or measurements, or multi-experiment jobs. In practice, this means using `reset`, `u1`, `u2`, `u3`, `cu1`, `cu2`, or `cu3` gates will throw an exception on submission, as will measuring mid-circuit, and submmitting jobs with multiple experiments.\n",
    "\n",
    "Additionally, while `barrier` is allowed for organizational and visualization purposes, the IonQ compiler does not see them as a compiler directive.\n",
    "\n",
    "Now, let's make a Bell pair."
   ]
  },
  {
   "cell_type": "code",
   "execution_count": 32,
   "metadata": {},
   "outputs": [
    {
     "data": {
      "text/html": [
       "<pre style=\"word-wrap: normal;white-space: pre;background: #fff0;line-height: 1.1;font-family: &quot;Courier New&quot;,Courier,monospace\">     ┌───┐     ┌─┐   \n",
       "q_0: ┤ H ├──■──┤M├───\n",
       "     └───┘┌─┴─┐└╥┘┌─┐\n",
       "q_1: ─────┤ X ├─╫─┤M├\n",
       "          └───┘ ║ └╥┘\n",
       "c: 2/═══════════╩══╩═\n",
       "                0  1 </pre>"
      ],
      "text/plain": [
       "     ┌───┐     ┌─┐   \n",
       "q_0: ┤ H ├──■──┤M├───\n",
       "     └───┘┌─┴─┐└╥┘┌─┐\n",
       "q_1: ─────┤ X ├─╫─┤M├\n",
       "          └───┘ ║ └╥┘\n",
       "c: 2/═══════════╩══╩═\n",
       "                0  1 "
      ]
     },
     "execution_count": 32,
     "metadata": {},
     "output_type": "execute_result"
    }
   ],
   "source": [
    "# initialize the quantum circuit object with a quantum register length two and a classical register length two\n",
    "qc = QuantumCircuit(2,2)\n",
    "\n",
    "# add gates — here we're creating a simple bell pair\n",
    "qc.h(0)\n",
    "qc.cnot(0,1)\n",
    "qc.measure([0,1],[0,1])\n",
    "\n",
    "# draw the circuit to make sure it's what we expect\n",
    "qc.draw()"
   ]
  },
  {
   "cell_type": "markdown",
   "metadata": {},
   "source": [
    "## Run on an IonQ Backend\n",
    "\n",
    "The IonQ provider supports two backend types:\n",
    "* `ionq_simulator`: IonQ's simulator backend.\n",
    "* `ionq_qpu`: IonQ's QPU backend.\n",
    "\n",
    "To view all current backend types, use the `.backends` property on the provider instance:"
   ]
  },
  {
   "cell_type": "code",
   "execution_count": 33,
   "metadata": {},
   "outputs": [
    {
     "data": {
      "text/plain": [
       "[<IonQSimulatorBackend('ionq_simulator') from <qiskit_ionq_provider.ionq_provider.IonQProvider object at 0x12ed22d30>()>,\n",
       " <IonQQPUBackend('ionq_qpu') from <qiskit_ionq_provider.ionq_provider.IonQProvider object at 0x12ed22d30>()>]"
      ]
     },
     "execution_count": 33,
     "metadata": {},
     "output_type": "execute_result"
    }
   ],
   "source": [
    "# view list of available backends\n",
    "provider.backends()"
   ]
  },
  {
   "cell_type": "code",
   "execution_count": 34,
   "metadata": {},
   "outputs": [],
   "source": [
    "# load backend by using the get_backend method\n",
    "backend = provider.get_backend(\"ionq_simulator\")"
   ]
  },
  {
   "cell_type": "code",
   "execution_count": 35,
   "metadata": {},
   "outputs": [],
   "source": [
    "# submit the circuit\n",
    "job = backend.run(qc)"
   ]
  },
  {
   "cell_type": "code",
   "execution_count": 36,
   "metadata": {},
   "outputs": [],
   "source": [
    "# poll for the job's result   \n",
    "result = job.result()"
   ]
  },
  {
   "cell_type": "code",
   "execution_count": 66,
   "metadata": {},
   "outputs": [
    {
     "name": "stdout",
     "output_type": "stream",
     "text": [
      "{'00': 0.4999999999999999, '11': 0.4999999999999999}\n"
     ]
    }
   ],
   "source": [
    "#get counts\n",
    "counts = result.get_counts()\n",
    "print(counts)"
   ]
  },
  {
   "cell_type": "markdown",
   "metadata": {},
   "source": [
    "Last but not least, let's use Qiskit's built-in tools to render the results as a histogram:"
   ]
  },
  {
   "cell_type": "code",
   "execution_count": 67,
   "metadata": {
    "scrolled": true
   },
   "outputs": [
    {
     "data": {
      "image/png": "[encoded data removed]",
      "text/plain": [
       "<Figure size 504x360 with 1 Axes>"
      ]
     },
     "execution_count": 67,
     "metadata": {},
     "output_type": "execute_result"
    }
   ],
   "source": [
    "#visualize counts\n",
    "plot_histogram(counts)"
   ]
  },
  {
   "cell_type": "markdown",
   "metadata": {},
   "source": [
    "## Example - Bernstein-Vazirani\n",
    "\n",
    "\n",
    "For our second example, let's build a Bernstein-Vazirani circuit and run it on a real IonQ quantum computer.\n",
    "\n",
    "Rather than manually building the BV circuit every time, we'll create a method that can build one for any oracle $s$, and any register size."
   ]
  },
  {
   "cell_type": "code",
   "execution_count": 43,
   "metadata": {},
   "outputs": [],
   "source": [
    "def make_bv_circuit(s_int, input_size):\n",
    "    \"\"\"build the Bernstein-Vazirani circuit\n",
    "     \n",
    "    Args:\n",
    "        s_int (int): value of s, the secret bitstring, as an integer\n",
    "        input_size (int): size of the input register, \n",
    "            i.e. the number of (qu)bits to use for the binary \n",
    "            representation of s\n",
    "\n",
    "    Returns:\n",
    "        circ (obj): the completed BV circuit\n",
    "\n",
    "    \"\"\"\n",
    "    # confirm the bitstring of S is what we think it should be\n",
    "    s = ('{0:0' + str(input_size) + 'b}').format(s_int)\n",
    "    print('s: ', s)\n",
    "    \n",
    "    # We need a circuit with `input_size` qubits, plus one ancilla qubit\n",
    "    # Also need `input_size` classical bits to write the output to\n",
    "    circ = QuantumCircuit(input_size + 1, input_size)\n",
    "\n",
    "    # put ancilla in state |-⟩\n",
    "    circ.h(input_size)\n",
    "    circ.z(input_size)\n",
    "    \n",
    "    # Apply Hadamard gates before querying the oracle\n",
    "    for i in range(input_size):\n",
    "        circ.h(i)\n",
    "\n",
    "    # Apply the inner-product oracle\n",
    "    s = s[::-1] # reverse s to fit qiskit's qubit ordering\n",
    "    for q in range(input_size):\n",
    "        if s[q] == '1':\n",
    "            circ.cx(q, input_size)\n",
    "\n",
    "    # Apply Hadamard gates after querying the oracle\n",
    "    for i in range(input_size):\n",
    "        circ.h(i)\n",
    "\n",
    "    # Measurement\n",
    "    for i in range(input_size):\n",
    "        circ.measure(i, i)\n",
    "    \n",
    "    return circ "
   ]
  },
  {
   "cell_type": "markdown",
   "metadata": {},
   "source": [
    "Now let's use that method to create a BV circuit to submit:"
   ]
  },
  {
   "cell_type": "code",
   "execution_count": 45,
   "metadata": {
    "scrolled": false
   },
   "outputs": [
    {
     "name": "stdout",
     "output_type": "stream",
     "text": [
      "s:  011\n"
     ]
    },
    {
     "data": {
      "text/html": [
       "<pre style=\"word-wrap: normal;white-space: pre;background: #fff0;line-height: 1.1;font-family: &quot;Courier New&quot;,Courier,monospace\">     ┌───┐          ┌───┐          ┌─┐   \n",
       "q_0: ┤ H ├───────■──┤ H ├──────────┤M├───\n",
       "     ├───┤       │  └───┘     ┌───┐└╥┘┌─┐\n",
       "q_1: ┤ H ├───────┼─────────■──┤ H ├─╫─┤M├\n",
       "     ├───┤┌───┐  │   ┌─┐   │  └───┘ ║ └╥┘\n",
       "q_2: ┤ H ├┤ H ├──┼───┤M├───┼────────╫──╫─\n",
       "     ├───┤├───┤┌─┴─┐ └╥┘ ┌─┴─┐      ║  ║ \n",
       "q_3: ┤ H ├┤ Z ├┤ X ├──╫──┤ X ├──────╫──╫─\n",
       "     └───┘└───┘└───┘  ║  └───┘      ║  ║ \n",
       "c: 3/═════════════════╩═════════════╩══╩═\n",
       "                      2             0  1 </pre>"
      ],
      "text/plain": [
       "     ┌───┐          ┌───┐          ┌─┐   \n",
       "q_0: ┤ H ├───────■──┤ H ├──────────┤M├───\n",
       "     ├───┤       │  └───┘     ┌───┐└╥┘┌─┐\n",
       "q_1: ┤ H ├───────┼─────────■──┤ H ├─╫─┤M├\n",
       "     ├───┤┌───┐  │   ┌─┐   │  └───┘ ║ └╥┘\n",
       "q_2: ┤ H ├┤ H ├──┼───┤M├───┼────────╫──╫─\n",
       "     ├───┤├───┤┌─┴─┐ └╥┘ ┌─┴─┐      ║  ║ \n",
       "q_3: ┤ H ├┤ Z ├┤ X ├──╫──┤ X ├──────╫──╫─\n",
       "     └───┘└───┘└───┘  ║  └───┘      ║  ║ \n",
       "c: 3/═════════════════╩═════════════╩══╩═\n",
       "                      2             0  1 "
      ]
     },
     "execution_count": 45,
     "metadata": {},
     "output_type": "execute_result"
    }
   ],
   "source": [
    "# Make a BV circuit:\n",
    "s_int = 3\n",
    "input_size = 3\n",
    "bvc = make_bv_circuit(s_int, input_size)\n",
    "\n",
    "# Print the circuit to confirm it was built as expected\n",
    "bvc.draw()"
   ]
  },
  {
   "cell_type": "markdown",
   "metadata": {},
   "source": [
    "Time to run it on an IonQ QPU!"
   ]
  },
  {
   "cell_type": "code",
   "execution_count": 46,
   "metadata": {},
   "outputs": [],
   "source": [
    "# Get the IonQ QPU backend to run circuits on:\n",
    "qpu_backend = provider.get_backend(\"ionq_qpu\")\n",
    "\n",
    "# Then run the circuit:\n",
    "bv_job = qpu_backend.run(bvc)"
   ]
  },
  {
   "cell_type": "markdown",
   "metadata": {},
   "source": [
    "As QPU time is a limited resource, QPU jobs are handled in a queue, and may take a little bit of time to return. Let's set up a cell we can run every once and a while that will print the status if it's not done, and the results if it is (you could also have this run on a loop with e.g. a minute or two sleep between checks) "
   ]
  },
  {
   "cell_type": "code",
   "execution_count": 68,
   "metadata": {
    "scrolled": true
   },
   "outputs": [
    {
     "name": "stdout",
     "output_type": "stream",
     "text": [
      "Job status is DONE\n"
     ]
    }
   ],
   "source": [
    "from qiskit.providers.jobstatus import JobStatus\n",
    "\n",
    "# Check if job is done\n",
    "if bv_job.status() is JobStatus.DONE:\n",
    "    \n",
    "    print(\"Job status is DONE\")\n",
    "    \n",
    "    # Fetch the result:\n",
    "    bv_job_result = bv_job.result()\n",
    "   \n",
    "else:\n",
    "    print(\"Job status is \", bv_job.status() )"
   ]
  },
  {
   "cell_type": "code",
   "execution_count": 69,
   "metadata": {},
   "outputs": [
    {
     "data": {
      "image/png": "[encoded data removed]",
      "text/plain": [
       "<Figure size 504x360 with 1 Axes>"
      ]
     },
     "execution_count": 69,
     "metadata": {},
     "output_type": "execute_result"
    }
   ],
   "source": [
    "# If Job is finished, plot and validate results \n",
    "# (this cell will throw if we don't have results yet)\n",
    "plot_histogram(bv_job_result.get_counts())"
   ]
  },
  {
   "cell_type": "markdown",
   "metadata": {},
   "source": [
    "## Job History\n",
    "\n",
    "Provider backends can also be used to retrieve previously run jobs:"
   ]
  },
  {
   "cell_type": "code",
   "execution_count": 70,
   "metadata": {},
   "outputs": [
    {
     "data": {
      "image/png": "[encoded data removed]",
      "text/plain": [
       "<Figure size 504x360 with 1 Axes>"
      ]
     },
     "execution_count": 70,
     "metadata": {},
     "output_type": "execute_result"
    }
   ],
   "source": [
    "# Retrieve with job id. You can get this from a submitted job with the job_id() method.\n",
    "job_id = bv_job.job_id()\n",
    "retrieved = backend.retrieve_job(job_id) \n",
    "counts = retrieved.result().get_counts()\n",
    "plot_histogram(counts)"
   ]
  }
 ],
 "metadata": {
  "kernelspec": {
   "display_name": "Python 3",
   "language": "python",
   "name": "python3"
  },
  "language_info": {
   "codemirror_mode": {
    "name": "ipython",
    "version": 3
   },
   "file_extension": ".py",
   "mimetype": "text/x-python",
   "name": "python",
   "nbconvert_exporter": "python",
   "pygments_lexer": "ipython3",
   "version": "3.8.5"
  }
 },
 "nbformat": 4,
 "nbformat_minor": 4
}
